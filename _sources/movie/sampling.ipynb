{
 "cells": [
  {
   "cell_type": "markdown",
   "id": "e61ff9c9",
   "metadata": {},
   "source": [
    "# Sampling\n",
    "\n",
    "We discuss an observation strategy for obtain a movie of M87*.\n",
    "\n",
    "Scientifically, we are interested in the statistical properties of an M87* movie, instead of a specific movie realization.\n",
    "In other word, we are interested in measuring the structure function of M87*.\n",
    "For simplicity, we assume EHT is capable of obtaining an uniform resolution movie.\n",
    "We focus on estimating the time structure function for each of the pixel in such movie."
   ]
  }
 ],
 "metadata": {
  "jupytext": {
   "formats": "ipynb,md:myst",
   "text_representation": {
    "extension": ".md",
    "format_name": "myst",
    "format_version": 0.13,
    "jupytext_version": "1.16.1"
   }
  },
  "kernelspec": {
   "display_name": "Python 3 (ipykernel)",
   "language": "python",
   "name": "python3"
  },
  "source_map": [
   13
  ]
 },
 "nbformat": 4,
 "nbformat_minor": 5
}